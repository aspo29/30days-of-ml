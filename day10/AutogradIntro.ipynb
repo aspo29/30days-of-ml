{
  "nbformat": 4,
  "nbformat_minor": 0,
  "metadata": {
    "colab": {
      "name": "AutogradIntro.ipynb",
      "provenance": []
    },
    "kernelspec": {
      "name": "python3",
      "display_name": "Python 3"
    }
  },
  "cells": [
    {
      "cell_type": "code",
      "metadata": {
        "id": "iI5-fT83OQkZ",
        "colab_type": "code",
        "colab": {}
      },
      "source": [
        "import torch"
      ],
      "execution_count": 0,
      "outputs": []
    },
    {
      "cell_type": "code",
      "metadata": {
        "id": "f-imgxGhOULZ",
        "colab_type": "code",
        "outputId": "8eff1b71-a875-4f24-e702-13e470fadf73",
        "colab": {
          "base_uri": "https://localhost:8080/",
          "height": 51
        }
      },
      "source": [
        "tensor = torch.Tensor([[3, 4],\n",
        "                       [7, 5]])\n",
        "tensor"
      ],
      "execution_count": 0,
      "outputs": [
        {
          "output_type": "execute_result",
          "data": {
            "text/plain": [
              "tensor([[3., 4.],\n",
              "        [7., 5.]])"
            ]
          },
          "metadata": {
            "tags": []
          },
          "execution_count": 6
        }
      ]
    },
    {
      "cell_type": "code",
      "metadata": {
        "id": "akP2N5bSOaeA",
        "colab_type": "code",
        "outputId": "8fc9dc11-c65e-4345-bca6-e2ce96727b7c",
        "colab": {
          "base_uri": "https://localhost:8080/",
          "height": 34
        }
      },
      "source": [
        "tensor.requires_grad"
      ],
      "execution_count": 0,
      "outputs": [
        {
          "output_type": "execute_result",
          "data": {
            "text/plain": [
              "False"
            ]
          },
          "metadata": {
            "tags": []
          },
          "execution_count": 7
        }
      ]
    },
    {
      "cell_type": "code",
      "metadata": {
        "id": "Ut5qhMloOd0E",
        "colab_type": "code",
        "outputId": "cc379406-0093-4ab7-8f76-4caec2f9c381",
        "colab": {
          "base_uri": "https://localhost:8080/",
          "height": 51
        }
      },
      "source": [
        "tensor.requires_grad_()"
      ],
      "execution_count": 0,
      "outputs": [
        {
          "output_type": "execute_result",
          "data": {
            "text/plain": [
              "tensor([[3., 4.],\n",
              "        [7., 5.]], requires_grad=True)"
            ]
          },
          "metadata": {
            "tags": []
          },
          "execution_count": 8
        }
      ]
    },
    {
      "cell_type": "code",
      "metadata": {
        "id": "mGJUGmZYOgb1",
        "colab_type": "code",
        "colab": {}
      },
      "source": [
        "out = tensor * tensor"
      ],
      "execution_count": 0,
      "outputs": []
    },
    {
      "cell_type": "code",
      "metadata": {
        "id": "J9rpu1fAOoik",
        "colab_type": "code",
        "outputId": "8f90978b-07ca-4bc4-f327-4e60b0b7f109",
        "colab": {
          "base_uri": "https://localhost:8080/",
          "height": 34
        }
      },
      "source": [
        "out.requires_grad"
      ],
      "execution_count": 0,
      "outputs": [
        {
          "output_type": "execute_result",
          "data": {
            "text/plain": [
              "True"
            ]
          },
          "metadata": {
            "tags": []
          },
          "execution_count": 10
        }
      ]
    },
    {
      "cell_type": "code",
      "metadata": {
        "id": "Ot0q89DQOqW7",
        "colab_type": "code",
        "outputId": "80725ffb-0ca3-4302-e7ff-5b88c695351a",
        "colab": {
          "base_uri": "https://localhost:8080/",
          "height": 34
        }
      },
      "source": [
        "print(out.grad)"
      ],
      "execution_count": 0,
      "outputs": [
        {
          "output_type": "stream",
          "text": [
            "None\n"
          ],
          "name": "stdout"
        }
      ]
    },
    {
      "cell_type": "code",
      "metadata": {
        "id": "FI2d5FojOsXR",
        "colab_type": "code",
        "outputId": "07bba977-03a3-4d52-f7e5-3df4b0cdbcda",
        "colab": {
          "base_uri": "https://localhost:8080/",
          "height": 34
        }
      },
      "source": [
        "out = (tensor * tensor).mean()\n",
        "print(out.grad_fn)"
      ],
      "execution_count": 0,
      "outputs": [
        {
          "output_type": "stream",
          "text": [
            "<MeanBackward0 object at 0x7fc46507f208>\n"
          ],
          "name": "stdout"
        }
      ]
    },
    {
      "cell_type": "code",
      "metadata": {
        "id": "cN1FtaY_Oz1f",
        "colab_type": "code",
        "colab": {}
      },
      "source": [
        "out.backward()"
      ],
      "execution_count": 0,
      "outputs": []
    },
    {
      "cell_type": "code",
      "metadata": {
        "id": "Mh-HtfUWO2vh",
        "colab_type": "code",
        "outputId": "c5ffe0b7-4c98-4987-e273-7fe360f27ddc",
        "colab": {
          "base_uri": "https://localhost:8080/",
          "height": 51
        }
      },
      "source": [
        "print(tensor.grad)"
      ],
      "execution_count": 0,
      "outputs": [
        {
          "output_type": "stream",
          "text": [
            "tensor([[1.5000, 2.0000],\n",
            "        [3.5000, 2.5000]])\n"
          ],
          "name": "stdout"
        }
      ]
    },
    {
      "cell_type": "code",
      "metadata": {
        "id": "A3Y2y_hOO4cB",
        "colab_type": "code",
        "outputId": "d9176800-b74a-49ac-e8f6-9b872db822b9",
        "colab": {
          "base_uri": "https://localhost:8080/",
          "height": 34
        }
      },
      "source": [
        "new_tensor = tensor * tensor\n",
        "new_tensor.requires_grad"
      ],
      "execution_count": 0,
      "outputs": [
        {
          "output_type": "execute_result",
          "data": {
            "text/plain": [
              "True"
            ]
          },
          "metadata": {
            "tags": []
          },
          "execution_count": 15
        }
      ]
    },
    {
      "cell_type": "code",
      "metadata": {
        "id": "6M9v2w00O-dy",
        "colab_type": "code",
        "outputId": "424b3148-ffb2-4708-d5a1-f24b9135c913",
        "colab": {
          "base_uri": "https://localhost:8080/",
          "height": 85
        }
      },
      "source": [
        "with torch.no_grad():\n",
        "\n",
        "  new_tensor = tensor * tensor\n",
        "  print('new_tensor = ', new_tensor)\n",
        "\n",
        "  print('requires_grad for tensor = ', tensor.requires_grad)\n",
        "\n",
        "  print('requires_grad for new_tensor = ', new_tensor.requires_grad)"
      ],
      "execution_count": 0,
      "outputs": [
        {
          "output_type": "stream",
          "text": [
            "new_tensor =  tensor([[ 9., 16.],\n",
            "        [49., 25.]])\n",
            "requires_grad for tensor =  True\n",
            "requires_grad for new_tensor =  False\n"
          ],
          "name": "stdout"
        }
      ]
    },
    {
      "cell_type": "code",
      "metadata": {
        "id": "ZJ4LrD9IPVtg",
        "colab_type": "code",
        "colab": {}
      },
      "source": [
        "import numpy as np\n",
        "import matplotlib.pyplot as plt"
      ],
      "execution_count": 0,
      "outputs": []
    },
    {
      "cell_type": "code",
      "metadata": {
        "id": "DsEbK_oor6jL",
        "colab_type": "code",
        "colab": {}
      },
      "source": [
        "x_train = np.array([[3.3], [4.4], [5.5], [6.71], [6.93], [4.168],\n",
        "                    [9.779], [6.182], [7.59], [2.167], [7.042],\n",
        "                    [10.791], [5.313], [7.997], [3.1]], dtype=np.float32)\n",
        "\n",
        "y_train = np.array([[1.7], [2.76], [2.09], [3.19], [1.694], [1.573],\n",
        "                    [3.366], [2.596], [2.53], [1.221], [2.827],\n",
        "                    [3.465], [1.65], [2.904], [1.3]], dtype=np.float32)"
      ],
      "execution_count": 0,
      "outputs": []
    },
    {
      "cell_type": "code",
      "metadata": {
        "id": "TBm98n_IslgZ",
        "colab_type": "code",
        "outputId": "5ac645fc-72b4-4d76-8f1e-d5d2bcecb852",
        "colab": {
          "base_uri": "https://localhost:8080/",
          "height": 265
        }
      },
      "source": [
        "plt.plot(x_train, y_train, 'ro', label='Original Data')\n",
        "plt.show()"
      ],
      "execution_count": 0,
      "outputs": [
        {
          "output_type": "display_data",
          "data": {
            "image/png": "[encoded data removed]",
            "text/plain": [
              "<Figure size 432x288 with 1 Axes>"
            ]
          },
          "metadata": {
            "tags": []
          }
        }
      ]
    },
    {
      "cell_type": "code",
      "metadata": {
        "id": "Ao40dqemsuhJ",
        "colab_type": "code",
        "outputId": "9c219fa2-aece-48fb-9d14-8a870b9fc2fe",
        "colab": {
          "base_uri": "https://localhost:8080/",
          "height": 51
        }
      },
      "source": [
        "X_train = torch.from_numpy(x_train)\n",
        "Y_train = torch.from_numpy(y_train)\n",
        "\n",
        "print('requires_grad for X_train: ', X_train.requires_grad)\n",
        "print('requires_grad for Y_train: ', Y_train.requires_grad)"
      ],
      "execution_count": 0,
      "outputs": [
        {
          "output_type": "stream",
          "text": [
            "requires_grad for X_train:  False\n",
            "requires_grad for Y_train:  False\n"
          ],
          "name": "stdout"
        }
      ]
    },
    {
      "cell_type": "code",
      "metadata": {
        "id": "kvatPxHZs_xW",
        "colab_type": "code",
        "colab": {}
      },
      "source": [
        "input_size = 1\n",
        "hidden_size = 100\n",
        "output_size = 1\n",
        "learning_rate = 1e-6"
      ],
      "execution_count": 0,
      "outputs": []
    },
    {
      "cell_type": "code",
      "metadata": {
        "id": "2uOd1FbZtMs5",
        "colab_type": "code",
        "outputId": "c2dc7c49-eddc-4e27-eeb6-883a95992e7a",
        "colab": {
          "base_uri": "https://localhost:8080/",
          "height": 34
        }
      },
      "source": [
        "w1 = torch.rand(input_size,\n",
        "                hidden_size,\n",
        "                requires_grad=True)\n",
        "w1.shape"
      ],
      "execution_count": 0,
      "outputs": [
        {
          "output_type": "execute_result",
          "data": {
            "text/plain": [
              "torch.Size([1, 100])"
            ]
          },
          "metadata": {
            "tags": []
          },
          "execution_count": 24
        }
      ]
    },
    {
      "cell_type": "code",
      "metadata": {
        "id": "Fps4YhnRtVf5",
        "colab_type": "code",
        "outputId": "fca2208d-24c4-4f83-8df5-547b5d78c9a6",
        "colab": {
          "base_uri": "https://localhost:8080/",
          "height": 34
        }
      },
      "source": [
        "w2 = torch.rand(hidden_size,\n",
        "                output_size,\n",
        "                requires_grad=True)\n",
        "w2.shape"
      ],
      "execution_count": 0,
      "outputs": [
        {
          "output_type": "execute_result",
          "data": {
            "text/plain": [
              "torch.Size([100, 1])"
            ]
          },
          "metadata": {
            "tags": []
          },
          "execution_count": 25
        }
      ]
    },
    {
      "cell_type": "code",
      "metadata": {
        "id": "Yh16SUTJtfQi",
        "colab_type": "code",
        "outputId": "682d05a5-a608-4f6c-b9b8-3ba13ae67a94",
        "colab": {
          "base_uri": "https://localhost:8080/",
          "height": 119
        }
      },
      "source": [
        "for iter in range(1, 301):\n",
        "  y_pred = X_train.mm(w1).clamp(min=0).mm(w2)\n",
        "  loss = (y_pred - Y_train).pow(2).sum()\n",
        "\n",
        "  if iter%50==0:\n",
        "    print(iter, loss.item())\n",
        "  loss.backward()\n",
        "\n",
        "  with torch.no_grad():\n",
        "    w1 -= learning_rate*w1.grad\n",
        "    w2 -= learning_rate*w2.grad\n",
        "    w1.grad.zero_()\n",
        "    w2.grad.zero_()"
      ],
      "execution_count": 0,
      "outputs": [
        {
          "output_type": "stream",
          "text": [
            "50 3471.1494140625\n",
            "100 90.40018463134766\n",
            "150 5.943292140960693\n",
            "200 3.694244384765625\n",
            "250 3.6342713832855225\n",
            "300 3.6326684951782227\n"
          ],
          "name": "stdout"
        }
      ]
    },
    {
      "cell_type": "code",
      "metadata": {
        "id": "GlqieT6BuCDf",
        "colab_type": "code",
        "outputId": "07483940-f69e-459d-dec5-a5ae5d38546b",
        "colab": {
          "base_uri": "https://localhost:8080/",
          "height": 1000
        }
      },
      "source": [
        "print('w1: ', w1)\n",
        "print('w2:', w2)"
      ],
      "execution_count": 0,
      "outputs": [
        {
          "output_type": "stream",
          "text": [
            "w1:  tensor([[ 5.7264e-01, -4.7401e-03, -5.4061e-03,  5.0731e-01,  8.6086e-01,\n",
            "         -4.0812e-03,  3.9364e-01,  3.4409e-02,  1.1985e-01,  1.3438e-01,\n",
            "          3.4790e-01,  5.7697e-01,  3.7291e-01, -4.6202e-03, -7.0328e-04,\n",
            "          9.7698e-01,  7.7172e-01,  3.2964e-01,  3.9379e-01,  5.3899e-01,\n",
            "          1.9957e-01,  1.2251e-01,  1.3300e-01,  5.2290e-01,  1.0437e-01,\n",
            "         -8.8059e-03,  6.6986e-01,  5.4351e-01,  4.4595e-01,  8.5120e-01,\n",
            "          4.5552e-01,  4.1280e-01, -5.4782e-03,  6.6614e-01,  1.6090e-01,\n",
            "         -1.8729e-03,  5.0347e-01,  1.7277e-01,  4.7826e-01,  8.1754e-01,\n",
            "          5.6316e-01,  5.2232e-01, -1.4577e-03,  8.8273e-01,  4.2186e-01,\n",
            "          2.6540e-01,  3.1755e-01, -1.7474e-04, -5.7117e-03, -4.2046e-04,\n",
            "         -5.0282e-03,  5.2888e-01,  5.8039e-01,  1.8428e-01,  7.4756e-01,\n",
            "          3.7637e-01,  5.4102e-01,  6.1654e-01, -7.3213e-03,  7.6254e-01,\n",
            "          1.4485e-02, -8.9195e-03,  8.9833e-01,  2.0042e-01,  6.8116e-01,\n",
            "          5.1823e-01, -5.5131e-04, -1.3365e-03,  5.4152e-01,  1.6274e-01,\n",
            "          5.8130e-01,  1.2166e-01,  7.1556e-01,  2.5872e-01,  2.9287e-02,\n",
            "         -1.0396e-02,  8.8388e-01,  3.1035e-01,  1.0625e+00,  1.0033e-01,\n",
            "          3.4340e-01,  3.7874e-01,  5.6947e-01,  3.5463e-01,  4.5367e-01,\n",
            "          8.7641e-01, -2.9974e-03,  1.1780e-01,  7.1442e-01, -7.7312e-04,\n",
            "          5.0033e-01,  4.0552e-01,  9.3818e-02, -3.4114e-03,  2.1665e-01,\n",
            "          3.2918e-01, -8.4028e-04,  5.6841e-01,  8.0476e-02,  2.1677e-01]],\n",
            "       requires_grad=True)\n",
            "w2: tensor([[ 3.8090e-01],\n",
            "        [ 7.3856e-01],\n",
            "        [ 5.4750e-01],\n",
            "        [ 1.7178e-01],\n",
            "        [-3.8394e-01],\n",
            "        [ 7.7659e-01],\n",
            "        [-1.9186e-01],\n",
            "        [ 6.0189e-01],\n",
            "        [ 6.2897e-01],\n",
            "        [-6.4368e-02],\n",
            "        [-7.9281e-02],\n",
            "        [ 4.6322e-02],\n",
            "        [ 1.3468e-01],\n",
            "        [ 8.0440e-01],\n",
            "        [ 6.9056e-01],\n",
            "        [-4.0942e-01],\n",
            "        [-1.8919e-01],\n",
            "        [ 3.1206e-01],\n",
            "        [ 5.4672e-01],\n",
            "        [ 4.0462e-01],\n",
            "        [ 2.1007e-01],\n",
            "        [ 4.8830e-01],\n",
            "        [ 4.2673e-01],\n",
            "        [-1.5160e-01],\n",
            "        [-1.6939e-04],\n",
            "        [ 7.0011e-01],\n",
            "        [-1.1486e-01],\n",
            "        [ 1.5297e-02],\n",
            "        [ 3.9325e-01],\n",
            "        [-1.7166e-02],\n",
            "        [-1.2469e-01],\n",
            "        [ 5.2374e-01],\n",
            "        [ 3.7619e-01],\n",
            "        [-1.9913e-01],\n",
            "        [ 3.1540e-01],\n",
            "        [ 5.8199e-01],\n",
            "        [-1.2553e-01],\n",
            "        [ 1.7519e-01],\n",
            "        [ 3.0566e-02],\n",
            "        [-1.5754e-01],\n",
            "        [-2.0803e-01],\n",
            "        [ 3.3058e-01],\n",
            "        [ 6.1825e-01],\n",
            "        [-3.8829e-01],\n",
            "        [ 1.2606e-01],\n",
            "        [-8.7339e-02],\n",
            "        [ 3.9079e-01],\n",
            "        [ 1.4638e-01],\n",
            "        [ 7.4019e-01],\n",
            "        [ 5.5392e-01],\n",
            "        [ 9.6613e-01],\n",
            "        [ 3.0618e-02],\n",
            "        [ 2.2813e-01],\n",
            "        [ 3.4516e-01],\n",
            "        [-1.7105e-01],\n",
            "        [-1.9567e-01],\n",
            "        [ 4.2949e-01],\n",
            "        [ 1.6991e-01],\n",
            "        [ 9.5772e-01],\n",
            "        [-1.9888e-01],\n",
            "        [ 2.7015e-02],\n",
            "        [ 9.7037e-01],\n",
            "        [-2.1540e-01],\n",
            "        [ 6.1119e-01],\n",
            "        [-1.2403e-01],\n",
            "        [ 2.9699e-01],\n",
            "        [ 8.1617e-01],\n",
            "        [ 7.9645e-01],\n",
            "        [-1.4843e-01],\n",
            "        [ 6.6321e-01],\n",
            "        [ 1.9492e-01],\n",
            "        [-4.0568e-02],\n",
            "        [-2.2747e-01],\n",
            "        [ 5.0268e-01],\n",
            "        [ 2.7445e-01],\n",
            "        [ 8.0289e-01],\n",
            "        [-1.2459e-01],\n",
            "        [ 4.5038e-01],\n",
            "        [-4.3614e-01],\n",
            "        [ 3.1250e-01],\n",
            "        [ 1.3537e-01],\n",
            "        [ 2.0747e-01],\n",
            "        [ 4.8729e-01],\n",
            "        [ 5.8367e-01],\n",
            "        [-1.1024e-01],\n",
            "        [-3.4208e-01],\n",
            "        [ 6.0471e-01],\n",
            "        [ 3.5923e-01],\n",
            "        [ 1.5781e-01],\n",
            "        [ 5.7819e-01],\n",
            "        [-8.8594e-02],\n",
            "        [ 2.9163e-01],\n",
            "        [ 5.5299e-02],\n",
            "        [ 7.6861e-01],\n",
            "        [-5.0894e-02],\n",
            "        [ 4.0262e-01],\n",
            "        [ 5.8967e-01],\n",
            "        [-2.9647e-01],\n",
            "        [ 4.4825e-01],\n",
            "        [-6.6062e-02]], requires_grad=True)\n"
          ],
          "name": "stdout"
        }
      ]
    },
    {
      "cell_type": "code",
      "metadata": {
        "id": "DaFZ1z9MuRDA",
        "colab_type": "code",
        "outputId": "8d67d2fa-2e05-48e9-b5ae-43891f35ca2b",
        "colab": {
          "base_uri": "https://localhost:8080/",
          "height": 272
        }
      },
      "source": [
        "x_train_tensor = torch.from_numpy(x_train)\n",
        "x_train_tensor"
      ],
      "execution_count": 0,
      "outputs": [
        {
          "output_type": "execute_result",
          "data": {
            "text/plain": [
              "tensor([[ 3.3000],\n",
              "        [ 4.4000],\n",
              "        [ 5.5000],\n",
              "        [ 6.7100],\n",
              "        [ 6.9300],\n",
              "        [ 4.1680],\n",
              "        [ 9.7790],\n",
              "        [ 6.1820],\n",
              "        [ 7.5900],\n",
              "        [ 2.1670],\n",
              "        [ 7.0420],\n",
              "        [10.7910],\n",
              "        [ 5.3130],\n",
              "        [ 7.9970],\n",
              "        [ 3.1000]])"
            ]
          },
          "metadata": {
            "tags": []
          },
          "execution_count": 30
        }
      ]
    },
    {
      "cell_type": "code",
      "metadata": {
        "id": "GKS6-wPtuU5y",
        "colab_type": "code",
        "outputId": "6814255f-c0e9-40cb-fadf-314483f6095c",
        "colab": {
          "base_uri": "https://localhost:8080/",
          "height": 272
        }
      },
      "source": [
        "predicted_in_tensor = x_train_tensor.mm(w1).clamp(min=0).mm(w2)\n",
        "predicted_in_tensor"
      ],
      "execution_count": 0,
      "outputs": [
        {
          "output_type": "execute_result",
          "data": {
            "text/plain": [
              "tensor([[1.2123],\n",
              "        [1.6164],\n",
              "        [2.0205],\n",
              "        [2.4651],\n",
              "        [2.5459],\n",
              "        [1.5312],\n",
              "        [3.5925],\n",
              "        [2.2711],\n",
              "        [2.7883],\n",
              "        [0.7961],\n",
              "        [2.5870],\n",
              "        [3.9643],\n",
              "        [1.9518],\n",
              "        [2.9379],\n",
              "        [1.1388]], grad_fn=<MmBackward>)"
            ]
          },
          "metadata": {
            "tags": []
          },
          "execution_count": 31
        }
      ]
    },
    {
      "cell_type": "code",
      "metadata": {
        "id": "RgbU2JJsulfZ",
        "colab_type": "code",
        "colab": {}
      },
      "source": [
        "predicted = predicted_in_tensor.detach().numpy()"
      ],
      "execution_count": 0,
      "outputs": []
    },
    {
      "cell_type": "code",
      "metadata": {
        "id": "Qp_LWRtXurm-",
        "colab_type": "code",
        "outputId": "487aef19-c826-484d-9afe-800f464dddcd",
        "colab": {
          "base_uri": "https://localhost:8080/",
          "height": 272
        }
      },
      "source": [
        "predicted"
      ],
      "execution_count": 0,
      "outputs": [
        {
          "output_type": "execute_result",
          "data": {
            "text/plain": [
              "array([[1.2123213 ],\n",
              "       [1.6164281 ],\n",
              "       [2.020536  ],\n",
              "       [2.4650536 ],\n",
              "       [2.5458748 ],\n",
              "       [1.5311985 ],\n",
              "       [3.5925112 ],\n",
              "       [2.2710817 ],\n",
              "       [2.7883396 ],\n",
              "       [0.79609096],\n",
              "       [2.5870204 ],\n",
              "       [3.9642906 ],\n",
              "       [1.9518371 ],\n",
              "       [2.9378579 ],\n",
              "       [1.1388472 ]], dtype=float32)"
            ]
          },
          "metadata": {
            "tags": []
          },
          "execution_count": 33
        }
      ]
    },
    {
      "cell_type": "code",
      "metadata": {
        "id": "NVN3wM6Luuh0",
        "colab_type": "code",
        "outputId": "736cb284-fbdb-4b0f-d253-3792408a7ed5",
        "colab": {
          "base_uri": "https://localhost:8080/",
          "height": 265
        }
      },
      "source": [
        "plt.plot(x_train, y_train, 'ro', label='Original Data')\n",
        "plt.plot(x_train, predicted, label='Fitted Line')\n",
        "plt.legend()\n",
        "plt.show()"
      ],
      "execution_count": 0,
      "outputs": [
        {
          "output_type": "display_data",
          "data": {
            "image/png": "[encoded data removed]",
            "text/plain": [
              "<Figure size 432x288 with 1 Axes>"
            ]
          },
          "metadata": {
            "tags": []
          }
        }
      ]
    }
  ]
}