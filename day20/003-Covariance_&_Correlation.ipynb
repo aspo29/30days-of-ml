{
 "cells": [
  {
   "cell_type": "markdown",
   "metadata": {},
   "source": [
    "# Covariance and Correlations\n",
    "\n",
    "Covariance: The covariance is a measure for how two variables are related to each other, i.e., how two variables vary with each other.\n",
    "\n",
    "$\\sigma_{xy}$ = 1/n[$\\sum_{i=1}^{n}(x_{i} - \\bar{x})(y_{i} - \\bar{y})$]\n",
    "\n",
    "- A covariance of 0 indicates that two variables are totally unrelated. If the covariance is positive, the variables increase in the same direction, and if the covariance is negative, the variables change in opposite directions. As it can be seen in the equation above, the magnitude of the covariance depends on the scale of each variable (the size of the population or sample mean).\n",
    "- By dividing the covariance by the features’ standard deviations, we ensure that the correlation between two features is in the range [-1, 1], which makes it more interpretable than the unbounded covariance. However, note that the covariance and correlation are exactly the same if the features are normalized to unit variance (e.g., via standardization or z-score normalization). Two features are perfectly positively correlated if ρ=1 and pefectly negatively correlated if ρ=−1. No correlation is observed if ρ=0.\n",
    "\n",
    "Pearson Correlation Coefficient gives a strength of association between two variables, and also the direction in which the variability happens between the variables. It is defined as:\n",
    "\n",
    "Correlation Coefficient = (1/n.$\\sigma_{x}.\\sigma_{y}$)($\\sum_{i=1}^{n}(x-\\bar{x})(y-\\bar{y}$)\n",
    "Hence, we simply divide the covariance by the standard deviation to understand the direction in which the variance is bound."
   ]
  },
  {
   "cell_type": "code",
   "execution_count": 1,
   "metadata": {},
   "outputs": [],
   "source": [
    "import pandas as pd\n",
    "import matplotlib.pyplot as plt\n",
    "import seaborn as sns\n",
    "import numpy as np"
   ]
  },
  {
   "cell_type": "code",
   "execution_count": 2,
   "metadata": {},
   "outputs": [],
   "source": [
    "# data of monthly excess wrt market and prices\n",
    "df = pd.read_csv(\"data/acme.csv\")"
   ]
  },
  {
   "cell_type": "code",
   "execution_count": 5,
   "metadata": {},
   "outputs": [
    {
     "data": {
      "text/html": [
       "<div>\n",
       "<style scoped>\n",
       "    .dataframe tbody tr th:only-of-type {\n",
       "        vertical-align: middle;\n",
       "    }\n",
       "\n",
       "    .dataframe tbody tr th {\n",
       "        vertical-align: top;\n",
       "    }\n",
       "\n",
       "    .dataframe thead th {\n",
       "        text-align: right;\n",
       "    }\n",
       "</style>\n",
       "<table border=\"1\" class=\"dataframe\">\n",
       "  <thead>\n",
       "    <tr style=\"text-align: right;\">\n",
       "      <th></th>\n",
       "      <th>Unnamed: 0</th>\n",
       "      <th>month</th>\n",
       "      <th>market</th>\n",
       "      <th>acme</th>\n",
       "    </tr>\n",
       "  </thead>\n",
       "  <tbody>\n",
       "    <tr>\n",
       "      <th>0</th>\n",
       "      <td>1</td>\n",
       "      <td>1/86</td>\n",
       "      <td>-0.061134</td>\n",
       "      <td>0.030160</td>\n",
       "    </tr>\n",
       "    <tr>\n",
       "      <th>1</th>\n",
       "      <td>2</td>\n",
       "      <td>2/86</td>\n",
       "      <td>0.008220</td>\n",
       "      <td>-0.165457</td>\n",
       "    </tr>\n",
       "    <tr>\n",
       "      <th>2</th>\n",
       "      <td>3</td>\n",
       "      <td>3/86</td>\n",
       "      <td>-0.007381</td>\n",
       "      <td>0.080137</td>\n",
       "    </tr>\n",
       "    <tr>\n",
       "      <th>3</th>\n",
       "      <td>4</td>\n",
       "      <td>4/86</td>\n",
       "      <td>-0.067561</td>\n",
       "      <td>-0.109917</td>\n",
       "    </tr>\n",
       "    <tr>\n",
       "      <th>4</th>\n",
       "      <td>5</td>\n",
       "      <td>5/86</td>\n",
       "      <td>-0.006238</td>\n",
       "      <td>-0.114853</td>\n",
       "    </tr>\n",
       "  </tbody>\n",
       "</table>\n",
       "</div>"
      ],
      "text/plain": [
       "   Unnamed: 0 month    market      acme\n",
       "0           1  1/86 -0.061134  0.030160\n",
       "1           2  2/86  0.008220 -0.165457\n",
       "2           3  3/86 -0.007381  0.080137\n",
       "3           4  4/86 -0.067561 -0.109917\n",
       "4           5  5/86 -0.006238 -0.114853"
      ]
     },
     "execution_count": 5,
     "metadata": {},
     "output_type": "execute_result"
    }
   ],
   "source": [
    "df.head()"
   ]
  },
  {
   "cell_type": "code",
   "execution_count": 6,
   "metadata": {},
   "outputs": [
    {
     "data": {
      "text/html": [
       "<div>\n",
       "<style scoped>\n",
       "    .dataframe tbody tr th:only-of-type {\n",
       "        vertical-align: middle;\n",
       "    }\n",
       "\n",
       "    .dataframe tbody tr th {\n",
       "        vertical-align: top;\n",
       "    }\n",
       "\n",
       "    .dataframe thead th {\n",
       "        text-align: right;\n",
       "    }\n",
       "</style>\n",
       "<table border=\"1\" class=\"dataframe\">\n",
       "  <thead>\n",
       "    <tr style=\"text-align: right;\">\n",
       "      <th></th>\n",
       "      <th>Unnamed: 0</th>\n",
       "      <th>market</th>\n",
       "      <th>acme</th>\n",
       "    </tr>\n",
       "  </thead>\n",
       "  <tbody>\n",
       "    <tr>\n",
       "      <th>count</th>\n",
       "      <td>60.000000</td>\n",
       "      <td>60.000000</td>\n",
       "      <td>60.000000</td>\n",
       "    </tr>\n",
       "    <tr>\n",
       "      <th>mean</th>\n",
       "      <td>30.500000</td>\n",
       "      <td>-0.051168</td>\n",
       "      <td>-0.068969</td>\n",
       "    </tr>\n",
       "    <tr>\n",
       "      <th>std</th>\n",
       "      <td>17.464249</td>\n",
       "      <td>0.053629</td>\n",
       "      <td>0.111572</td>\n",
       "    </tr>\n",
       "    <tr>\n",
       "      <th>min</th>\n",
       "      <td>1.000000</td>\n",
       "      <td>-0.262077</td>\n",
       "      <td>-0.284796</td>\n",
       "    </tr>\n",
       "    <tr>\n",
       "      <th>25%</th>\n",
       "      <td>15.750000</td>\n",
       "      <td>-0.079007</td>\n",
       "      <td>-0.133046</td>\n",
       "    </tr>\n",
       "    <tr>\n",
       "      <th>50%</th>\n",
       "      <td>30.500000</td>\n",
       "      <td>-0.044867</td>\n",
       "      <td>-0.089992</td>\n",
       "    </tr>\n",
       "    <tr>\n",
       "      <th>75%</th>\n",
       "      <td>45.250000</td>\n",
       "      <td>-0.011587</td>\n",
       "      <td>-0.031495</td>\n",
       "    </tr>\n",
       "    <tr>\n",
       "      <th>max</th>\n",
       "      <td>60.000000</td>\n",
       "      <td>0.073396</td>\n",
       "      <td>0.242616</td>\n",
       "    </tr>\n",
       "  </tbody>\n",
       "</table>\n",
       "</div>"
      ],
      "text/plain": [
       "       Unnamed: 0     market       acme\n",
       "count   60.000000  60.000000  60.000000\n",
       "mean    30.500000  -0.051168  -0.068969\n",
       "std     17.464249   0.053629   0.111572\n",
       "min      1.000000  -0.262077  -0.284796\n",
       "25%     15.750000  -0.079007  -0.133046\n",
       "50%     30.500000  -0.044867  -0.089992\n",
       "75%     45.250000  -0.011587  -0.031495\n",
       "max     60.000000   0.073396   0.242616"
      ]
     },
     "execution_count": 6,
     "metadata": {},
     "output_type": "execute_result"
    }
   ],
   "source": [
    "df.describe()"
   ]
  },
  {
   "cell_type": "code",
   "execution_count": 13,
   "metadata": {},
   "outputs": [
    {
     "name": "stdout",
     "output_type": "stream",
     "text": [
      "<class 'pandas.core.frame.DataFrame'>\n",
      "RangeIndex: 60 entries, 0 to 59\n",
      "Data columns (total 4 columns):\n",
      " #   Column      Non-Null Count  Dtype  \n",
      "---  ------      --------------  -----  \n",
      " 0   Unnamed: 0  60 non-null     int64  \n",
      " 1   month       60 non-null     object \n",
      " 2   market      60 non-null     float64\n",
      " 3   acme        60 non-null     float64\n",
      "dtypes: float64(2), int64(1), object(1)\n",
      "memory usage: 2.0+ KB\n"
     ]
    }
   ],
   "source": [
    "df.info()"
   ]
  },
  {
   "cell_type": "code",
   "execution_count": 7,
   "metadata": {},
   "outputs": [
    {
     "data": {
      "text/plain": [
       "Unnamed: 0    0\n",
       "month         0\n",
       "market        0\n",
       "acme          0\n",
       "dtype: int64"
      ]
     },
     "execution_count": 7,
     "metadata": {},
     "output_type": "execute_result"
    }
   ],
   "source": [
    "df.isna().sum()"
   ]
  },
  {
   "cell_type": "code",
   "execution_count": 21,
   "metadata": {},
   "outputs": [
    {
     "data": {
      "text/html": [
       "<div>\n",
       "<style scoped>\n",
       "    .dataframe tbody tr th:only-of-type {\n",
       "        vertical-align: middle;\n",
       "    }\n",
       "\n",
       "    .dataframe tbody tr th {\n",
       "        vertical-align: top;\n",
       "    }\n",
       "\n",
       "    .dataframe thead th {\n",
       "        text-align: right;\n",
       "    }\n",
       "</style>\n",
       "<table border=\"1\" class=\"dataframe\">\n",
       "  <thead>\n",
       "    <tr style=\"text-align: right;\">\n",
       "      <th></th>\n",
       "      <th>Unnamed: 0</th>\n",
       "      <th>market</th>\n",
       "      <th>acme</th>\n",
       "    </tr>\n",
       "  </thead>\n",
       "  <tbody>\n",
       "    <tr>\n",
       "      <th>Unnamed: 0</th>\n",
       "      <td>305.000000</td>\n",
       "      <td>-0.224922</td>\n",
       "      <td>-0.457489</td>\n",
       "    </tr>\n",
       "    <tr>\n",
       "      <th>market</th>\n",
       "      <td>-0.224922</td>\n",
       "      <td>0.002876</td>\n",
       "      <td>0.003258</td>\n",
       "    </tr>\n",
       "    <tr>\n",
       "      <th>acme</th>\n",
       "      <td>-0.457489</td>\n",
       "      <td>0.003258</td>\n",
       "      <td>0.012448</td>\n",
       "    </tr>\n",
       "  </tbody>\n",
       "</table>\n",
       "</div>"
      ],
      "text/plain": [
       "            Unnamed: 0    market      acme\n",
       "Unnamed: 0  305.000000 -0.224922 -0.457489\n",
       "market       -0.224922  0.002876  0.003258\n",
       "acme         -0.457489  0.003258  0.012448"
      ]
     },
     "execution_count": 21,
     "metadata": {},
     "output_type": "execute_result"
    }
   ],
   "source": [
    "# Covariance of the data\n",
    "df.cov()"
   ]
  },
  {
   "cell_type": "markdown",
   "metadata": {},
   "source": [
    "Heatmap in seaborn can take 18 arguments as per documentation:\n",
    "sns.heatmap(data, vmin=None, vmax=None, cmap=None,center=None, robust=False, annot=None, fmt=’.2g’, annot_kws=None, linewidths=0, linecolor=’white’, cbar=True, cbar_kws=None, cbar_ax=None, square=False, xticklabels=’auto’, yticklabels=’auto’, mask=None, ax=None, **kwargs)\n",
    "\n",
    "Let us try to understand each argument:\n",
    "1. Compulsory Arguments:\n",
    "    1. The main component of heatmap is the correlation function which describes the relationship between the variable ie df.corr()\n",
    "    2. To display the values of correlation coefficients, we make use of annot=True else keep that False.\n",
    "    3. It is possible that the correlation values may become greater than five decimal places, then we pass 'fmt' argument to make the output more readable. For example, fmt='.3g' will have correlation values upto three decimal places.\n",
    "    4. vmin, vmax and center are used for rescaling the color bars\n",
    "2. Design Arguments:\n",
    "    1. cmap: Mention the color code of the matrix.\n",
    "    2. linewidths, linecolor: Specifies the thickness and the color of the borders.\n",
    "    3. By default, the legend for colorscale is vertical, we can make it horizontal using cbar_kws= {'orientation': 'horizontal'} or we can set it to False to hide it.\n",
    "    4. To change the shape from rectangular to square simply pass square=True.\n",
    "3. Size of Matrix:\n",
    "    1. If we want to change the shape of matrix or display only a part of it then we make use of .triu() and .tril() and pass these in matrix = np.triu/tril(df.corr()) and mask=matrix to display upper half of the triangle, and the mask=tril() to display lower half of the triangle of matrix."
   ]
  },
  {
   "cell_type": "code",
   "execution_count": 15,
   "metadata": {},
   "outputs": [
    {
     "data": {
      "image/png": "[encoded data removed]",
      "text/plain": [
       "<Figure size 432x288 with 2 Axes>"
      ]
     },
     "metadata": {
      "needs_background": "light"
     },
     "output_type": "display_data"
    }
   ],
   "source": [
    "corr = df.corr()\n",
    "matrix = sns.heatmap(corr, cmap='viridis', annot=True)"
   ]
  },
  {
   "cell_type": "code",
   "execution_count": 17,
   "metadata": {},
   "outputs": [
    {
     "data": {
      "image/png": "[encoded data removed]",
      "text/plain": [
       "<Figure size 432x288 with 2 Axes>"
      ]
     },
     "metadata": {
      "needs_background": "light"
     },
     "output_type": "display_data"
    }
   ],
   "source": [
    "corr_upper = np.triu(df.corr())\n",
    "matrix = sns.heatmap(corr, cmap='coolwarm', annot=True, mask=corr_upper)"
   ]
  },
  {
   "cell_type": "code",
   "execution_count": 20,
   "metadata": {},
   "outputs": [
    {
     "data": {
      "image/png": "[encoded data removed]",
      "text/plain": [
       "<Figure size 432x288 with 2 Axes>"
      ]
     },
     "metadata": {
      "needs_background": "light"
     },
     "output_type": "display_data"
    }
   ],
   "source": [
    "corr_lower = np.tril(df.corr())\n",
    "matrix = sns.heatmap(corr, cmap='coolwarm', annot=True, mask=corr_lower, fmt='.3g', vmin=-1, vmax=1, center=0)"
   ]
  }
 ],
 "metadata": {
  "kernelspec": {
   "display_name": "Python 3",
   "language": "python",
   "name": "python3"
  },
  "language_info": {
   "codemirror_mode": {
    "name": "ipython",
    "version": 3
   },
   "file_extension": ".py",
   "mimetype": "text/x-python",
   "name": "python",
   "nbconvert_exporter": "python",
   "pygments_lexer": "ipython3",
   "version": "3.8.2"
  }
 },
 "nbformat": 4,
 "nbformat_minor": 4
}
